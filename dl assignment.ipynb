{
 "cells": [
  {
   "cell_type": "code",
   "execution_count": 2,
   "id": "c5c7ff0c",
   "metadata": {},
   "outputs": [
    {
     "name": "stdout",
     "output_type": "stream",
     "text": [
      "                                        product_name product_price Rate  \\\n",
      "0  Candes 12 L Room/Personal Air Cooler??????(Whi...          3999    5   \n",
      "1  Candes 12 L Room/Personal Air Cooler??????(Whi...          3999    5   \n",
      "2  Candes 12 L Room/Personal Air Cooler??????(Whi...          3999    3   \n",
      "3  Candes 12 L Room/Personal Air Cooler??????(Whi...          3999    1   \n",
      "4  Candes 12 L Room/Personal Air Cooler??????(Whi...          3999    3   \n",
      "\n",
      "            Review                                            Summary  \\\n",
      "0           super!  great cooler excellent air flow and for this p...   \n",
      "1          awesome              best budget 2 fit cooler nice cooling   \n",
      "2             fair  the quality is good but the power of air is de...   \n",
      "3  useless product                  very bad product its a only a fan   \n",
      "4             fair                                      ok ok product   \n",
      "\n",
      "  Sentiment  \n",
      "0  positive  \n",
      "1  positive  \n",
      "2  positive  \n",
      "3  negative  \n",
      "4   neutral  \n"
     ]
    }
   ],
   "source": [
    "import pandas as pd\n",
    "\n",
    "# Load dataset\n",
    "dataset_path = r\"D:/Dataset-SA.csv\"\n",
    "df = pd.read_csv(dataset_path)\n",
    "\n",
    "# Check data\n",
    "print(df.head())"
   ]
  },
  {
   "cell_type": "code",
   "execution_count": 3,
   "id": "135b937d",
   "metadata": {},
   "outputs": [],
   "source": [
    "from sklearn.model_selection import train_test_split\n",
    "from tensorflow.keras.preprocessing.text import Tokenizer\n",
    "from tensorflow.keras.preprocessing.sequence import pad_sequences\n",
    "from sklearn.preprocessing import LabelEncoder\n"
   ]
  },
  {
   "cell_type": "code",
   "execution_count": 4,
   "id": "69110e66",
   "metadata": {},
   "outputs": [],
   "source": [
    "texts = df['Review'].values  \n",
    "labels = df['Sentiment'].values  \n"
   ]
  },
  {
   "cell_type": "code",
   "execution_count": 5,
   "id": "2b5e0755",
   "metadata": {},
   "outputs": [],
   "source": [
    "label_encoder = LabelEncoder()\n",
    "labels = label_encoder.fit_transform(labels)\n"
   ]
  },
  {
   "cell_type": "code",
   "execution_count": 6,
   "id": "bda4fc6e",
   "metadata": {},
   "outputs": [],
   "source": [
    "train_texts, val_texts, train_labels, val_labels = train_test_split(texts, labels, test_size=0.2, random_state=42)"
   ]
  },
  {
   "cell_type": "code",
   "execution_count": 7,
   "id": "6592ec61",
   "metadata": {},
   "outputs": [
    {
     "name": "stdout",
     "output_type": "stream",
     "text": [
      "['wonderful' 'wonderful' 'slightly disappointed' 'mind-blowing purchase'\n",
      " 'nice product' 'fabulous!' 'worth the money' 'useless product'\n",
      " 'expected a better product' 'terrible product']\n",
      "<class 'numpy.ndarray'>\n",
      "<class 'str'>\n"
     ]
    }
   ],
   "source": [
    "print(train_texts[:10])  # Print the first 10 entries to inspect them\n",
    "print(type(train_texts))  # Ensure it's a numpy array or list\n",
    "print(type(train_texts[0]))  # Ensure each entry is a string\n"
   ]
  },
  {
   "cell_type": "code",
   "execution_count": 8,
   "id": "f5465878",
   "metadata": {},
   "outputs": [
    {
     "name": "stdout",
     "output_type": "stream",
     "text": [
      "['wonderful' 'wonderful' 'slightly disappointed' 'mind-blowing purchase'\n",
      " 'nice product' 'fabulous!' 'worth the money' 'useless product'\n",
      " 'expected a better product' 'terrible product']\n"
     ]
    }
   ],
   "source": [
    "import numpy as np\n",
    "\n",
    "# Ensure that the array contains no NaN values or non-string objects\n",
    "train_texts = np.array([str(text) if pd.notna(text) else '' for text in train_texts])\n",
    "\n",
    "# Inspect again after cleaning\n",
    "print(train_texts[:10])  # Check the first 10 entries\n"
   ]
  },
  {
   "cell_type": "code",
   "execution_count": 9,
   "id": "05994688",
   "metadata": {},
   "outputs": [],
   "source": [
    "tokenizer = Tokenizer(num_words=10000, oov_token='<OOV>')\n",
    "tokenizer.fit_on_texts(train_texts)  # This should work after cleaning\n"
   ]
  },
  {
   "cell_type": "code",
   "execution_count": 10,
   "id": "cabdfa95",
   "metadata": {},
   "outputs": [],
   "source": [
    "train_texts = [str(text) if isinstance(text, (int, float)) else text for text in train_texts]\n",
    "val_texts = [str(text) if isinstance(text, (int, float)) else text for text in val_texts]\n"
   ]
  },
  {
   "cell_type": "code",
   "execution_count": 11,
   "id": "2852dd83",
   "metadata": {},
   "outputs": [],
   "source": [
    "# Tokenize and pad sequences\n",
    "train_sequences = tokenizer.texts_to_sequences(train_texts)\n",
    "val_sequences = tokenizer.texts_to_sequences(val_texts)\n",
    "\n"
   ]
  },
  {
   "cell_type": "code",
   "execution_count": 12,
   "id": "5e86b255",
   "metadata": {},
   "outputs": [],
   "source": [
    "max_length = 100  # You can adjust this based on your dataset size and requirements\n",
    "\n",
    "# Now pad sequences\n",
    "train_padded = pad_sequences(train_sequences, maxlen=max_length, padding='post', truncating='post')\n",
    "val_padded = pad_sequences(val_sequences, maxlen=max_length, padding='post', truncating='post')\n"
   ]
  },
  {
   "cell_type": "code",
   "execution_count": 13,
   "id": "978d182c",
   "metadata": {},
   "outputs": [],
   "source": [
    "import tensorflow as tf"
   ]
  },
  {
   "cell_type": "code",
   "execution_count": 14,
   "id": "5e26b8d2",
   "metadata": {},
   "outputs": [],
   "source": [
    "train_labels = tf.keras.utils.to_categorical(train_labels, num_classes=3)\n",
    "val_labels = tf.keras.utils.to_categorical(val_labels, num_classes=3)"
   ]
  },
  {
   "cell_type": "code",
   "execution_count": 15,
   "id": "f302ea21",
   "metadata": {},
   "outputs": [
    {
     "name": "stdout",
     "output_type": "stream",
     "text": [
      "Model: \"sequential\"\n",
      "_________________________________________________________________\n",
      " Layer (type)                Output Shape              Param #   \n",
      "=================================================================\n",
      " embedding (Embedding)       (None, 100, 64)           640000    \n",
      "                                                                 \n",
      " flatten (Flatten)           (None, 6400)              0         \n",
      "                                                                 \n",
      " dense (Dense)               (None, 64)                409664    \n",
      "                                                                 \n",
      " dense_1 (Dense)             (None, 32)                2080      \n",
      "                                                                 \n",
      " dense_2 (Dense)             (None, 3)                 99        \n",
      "                                                                 \n",
      "=================================================================\n",
      "Total params: 1,051,843\n",
      "Trainable params: 1,051,843\n",
      "Non-trainable params: 0\n",
      "_________________________________________________________________\n"
     ]
    }
   ],
   "source": [
    "import tensorflow as tf\n",
    "from tensorflow.keras import layers, models\n",
    "\n",
    "# Define the model architecture\n",
    "model = models.Sequential([\n",
    "    layers.Embedding(input_dim=10000, output_dim=64, input_length=max_length),\n",
    "    layers.Flatten(),\n",
    "    layers.Dense(64, activation='relu'),\n",
    "    layers.Dense(32, activation='relu'),\n",
    "    layers.Dense(3, activation='softmax')  # 3 output classes: positive, negative, neutral\n",
    "])\n",
    "\n",
    "# Compile the model\n",
    "model.compile(optimizer='adam',\n",
    "              loss='categorical_crossentropy',  # Since labels are one-hot encoded\n",
    "              metrics=['accuracy'])\n",
    "\n",
    "# Print model summary\n",
    "model.summary()\n"
   ]
  },
  {
   "cell_type": "code",
   "execution_count": 16,
   "id": "584c6f39",
   "metadata": {},
   "outputs": [
    {
     "name": "stdout",
     "output_type": "stream",
     "text": [
      "Epoch 1/10\n",
      "5127/5127 [==============================] - 49s 9ms/step - loss: 0.3559 - accuracy: 0.8945 - val_loss: 0.3410 - val_accuracy: 0.8998\n",
      "Epoch 2/10\n",
      "5127/5127 [==============================] - 46s 9ms/step - loss: 0.3461 - accuracy: 0.8972 - val_loss: 0.3404 - val_accuracy: 0.8998\n",
      "Epoch 3/10\n",
      "5127/5127 [==============================] - 46s 9ms/step - loss: 0.3445 - accuracy: 0.8975 - val_loss: 0.3419 - val_accuracy: 0.8998\n",
      "Epoch 4/10\n",
      "5127/5127 [==============================] - 47s 9ms/step - loss: 0.3434 - accuracy: 0.8976 - val_loss: 0.3428 - val_accuracy: 0.8998\n",
      "Epoch 5/10\n",
      "5127/5127 [==============================] - 48s 9ms/step - loss: 0.3429 - accuracy: 0.8977 - val_loss: 0.3401 - val_accuracy: 0.8997\n",
      "Epoch 6/10\n",
      "5127/5127 [==============================] - 49s 9ms/step - loss: 0.3429 - accuracy: 0.8977 - val_loss: 0.3404 - val_accuracy: 0.8997\n",
      "Epoch 7/10\n",
      "5127/5127 [==============================] - 47s 9ms/step - loss: 0.3422 - accuracy: 0.8978 - val_loss: 0.3420 - val_accuracy: 0.8997\n",
      "Epoch 8/10\n",
      "5127/5127 [==============================] - 46s 9ms/step - loss: 0.3421 - accuracy: 0.8978 - val_loss: 0.3447 - val_accuracy: 0.8996\n",
      "Epoch 9/10\n",
      "5127/5127 [==============================] - 46s 9ms/step - loss: 0.3419 - accuracy: 0.8978 - val_loss: 0.3419 - val_accuracy: 0.8996\n",
      "Epoch 10/10\n",
      "5127/5127 [==============================] - 46s 9ms/step - loss: 0.3417 - accuracy: 0.8979 - val_loss: 0.3423 - val_accuracy: 0.8997\n"
     ]
    }
   ],
   "source": [
    "# Train the model\n",
    "history = model.fit(train_padded, train_labels, \n",
    "                    validation_data=(val_padded, val_labels),\n",
    "                    epochs=10,  # You can increase this for better performance\n",
    "                    batch_size=32)  # Adjust batch size as needed\n"
   ]
  },
  {
   "cell_type": "code",
   "execution_count": 17,
   "id": "406b8512",
   "metadata": {},
   "outputs": [
    {
     "name": "stdout",
     "output_type": "stream",
     "text": [
      "1282/1282 [==============================] - 2s 1ms/step - loss: 0.3423 - accuracy: 0.8997\n",
      "Validation Accuracy: 89.97%\n"
     ]
    }
   ],
   "source": [
    "# Evaluate the model on validation data\n",
    "val_loss, val_accuracy = model.evaluate(val_padded, val_labels)\n",
    "print(f\"Validation Accuracy: {val_accuracy*100:.2f}%\")\n"
   ]
  },
  {
   "cell_type": "code",
   "execution_count": 18,
   "id": "892f3702",
   "metadata": {},
   "outputs": [
    {
     "data": {
      "image/png": "[encoded data removed]",
      "text/plain": [
       "<Figure size 432x288 with 1 Axes>"
      ]
     },
     "metadata": {
      "needs_background": "light"
     },
     "output_type": "display_data"
    },
    {
     "data": {
      "image/png": "[encoded data removed]",
      "text/plain": [
       "<Figure size 432x288 with 1 Axes>"
      ]
     },
     "metadata": {
      "needs_background": "light"
     },
     "output_type": "display_data"
    }
   ],
   "source": [
    "import matplotlib.pyplot as plt\n",
    "\n",
    "# Plot training and validation accuracy\n",
    "plt.plot(history.history['accuracy'], label='Training Accuracy')\n",
    "plt.plot(history.history['val_accuracy'], label='Validation Accuracy')\n",
    "plt.xlabel('Epochs')\n",
    "plt.ylabel('Accuracy')\n",
    "plt.legend()\n",
    "plt.show()\n",
    "\n",
    "# Plot training and validation loss\n",
    "plt.plot(history.history['loss'], label='Training Loss')\n",
    "plt.plot(history.history['val_loss'], label='Validation Loss')\n",
    "plt.xlabel('Epochs')\n",
    "plt.ylabel('Loss')\n",
    "plt.legend()\n",
    "plt.show()"
   ]
  },
  {
   "cell_type": "code",
   "execution_count": 19,
   "id": "7d15d97a",
   "metadata": {},
   "outputs": [
    {
     "name": "stdout",
     "output_type": "stream",
     "text": [
      "Predicted Sentiment: positive\n"
     ]
    }
   ],
   "source": [
    "# Sample text input\n",
    "new_text = [\"This product is fantastic!\"]\n",
    "\n",
    "# Preprocess the new text\n",
    "new_sequences = tokenizer.texts_to_sequences(new_text)\n",
    "new_padded = pad_sequences(new_sequences, maxlen=max_length, padding='post', truncating='post')\n",
    "\n",
    "# Make prediction\n",
    "prediction = model.predict(new_padded)\n",
    "predicted_label = label_encoder.inverse_transform([prediction.argmax(axis=-1)[0]])\n",
    "\n",
    "print(f\"Predicted Sentiment: {predicted_label[0]}\")\n"
   ]
  },
  {
   "cell_type": "code",
   "execution_count": null,
   "id": "13d5434e",
   "metadata": {},
   "outputs": [],
   "source": []
  }
 ],
 "metadata": {
  "kernelspec": {
   "display_name": "Python 3 (ipykernel)",
   "language": "python",
   "name": "python3"
  },
  "language_info": {
   "codemirror_mode": {
    "name": "ipython",
    "version": 3
   },
   "file_extension": ".py",
   "mimetype": "text/x-python",
   "name": "python",
   "nbconvert_exporter": "python",
   "pygments_lexer": "ipython3",
   "version": "3.9.12"
  }
 },
 "nbformat": 4,
 "nbformat_minor": 5
}
